{
 "cells": [
  {
   "cell_type": "code",
   "execution_count": null,
   "metadata": {
    "colab": {
     "base_uri": "https://localhost:8080/"
    },
    "id": "2wmBsQHrN0AO",
    "outputId": "db71f190-6af9-467f-f9c3-795b5a3ce669"
   },
   "outputs": [
    {
     "name": "stdout",
     "output_type": "stream",
     "text": [
      "Mounted at /content/drive\n"
     ]
    }
   ],
   "source": [
    "from google.colab import drive\n",
    "drive.mount('/content/drive')"
   ]
  },
  {
   "cell_type": "code",
   "execution_count": null,
   "metadata": {
    "id": "h4lGP2j6NfI2"
   },
   "outputs": [],
   "source": [
    "import os\n",
    "import glob\n",
    "import random\n",
    "import shutil\n",
    "import warnings\n",
    "import json\n",
    "import itertools\n",
    "import numpy as np\n",
    "import pandas as pd\n",
    "from collections import Counter\n",
    "\n",
    "import plotly.express as px\n",
    "import matplotlib.pyplot as plt\n",
    "import seaborn as sns\n",
    "\n",
    "import keras\n",
    "from keras.preprocessing.image import ImageDataGenerator\n",
    "import tensorflow as tf\n",
    "from PIL import Image\n",
    "\n",
    "from sklearn.model_selection import train_test_split\n",
    "\n",
    "# Defining the working directories\n",
    "work_dir = '/content/drive/MyDrive/cassava-leaf-disease-classification/'\n",
    "os.listdir(work_dir) \n",
    "train_path = '/content/drive/MyDrive/cassava-leaf-disease-classification/train_images'"
   ]
  },
  {
   "cell_type": "code",
   "execution_count": null,
   "metadata": {
    "colab": {
     "base_uri": "https://localhost:8080/"
    },
    "id": "B3FXhG_2NnLk",
    "outputId": "fe4059a2-aca6-498a-dc93-849d4054cde5"
   },
   "outputs": [
    {
     "name": "stdout",
     "output_type": "stream",
     "text": [
      "Num GPUs Available:  1\n",
      "Yes, there is GPU\n"
     ]
    }
   ],
   "source": [
    "\n",
    "print(\"Num GPUs Available: \", len(tf.config.experimental.list_physical_devices('GPU')))\n",
    "with tf.device('/GPU:0'):\n",
    "    print('Yes, there is GPU')\n",
    "    \n",
    "tf.debugging.set_log_device_placement(True)\n",
    "\n"
   ]
  },
  {
   "cell_type": "code",
   "execution_count": null,
   "metadata": {
    "colab": {
     "base_uri": "https://localhost:8080/"
    },
    "id": "pg-4EK7qQ1kV",
    "outputId": "d2263360-0b6d-41d9-efb9-b546f682f544"
   },
   "outputs": [
    {
     "name": "stdout",
     "output_type": "stream",
     "text": [
      "3    13158\n",
      "4     2577\n",
      "2     2386\n",
      "1     2189\n",
      "0     1087\n",
      "Name: label, dtype: int64\n"
     ]
    }
   ],
   "source": [
    "data = pd.read_csv(work_dir + 'train.csv')\n",
    "print(data['label'].value_counts()) # Checking the frequencies of the labels\n",
    "\n"
   ]
  },
  {
   "cell_type": "code",
   "execution_count": null,
   "metadata": {
    "colab": {
     "base_uri": "https://localhost:8080/"
    },
    "id": "kMXJyx4VoAFU",
    "outputId": "82a941c7-f146-44ca-d1f3-0a38bed7eff8"
   },
   "outputs": [
    {
     "data": {
      "text/plain": [
       "{0: 'Cassava Bacterial Blight (CBB)',\n",
       " 1: 'Cassava Brown Streak Disease (CBSD)',\n",
       " 2: 'Cassava Green Mottle (CGM)',\n",
       " 3: 'Cassava Mosaic Disease (CMD)',\n",
       " 4: 'Healthy'}"
      ]
     },
     "execution_count": 5,
     "metadata": {
      "tags": []
     },
     "output_type": "execute_result"
    }
   ],
   "source": [
    "# Importing the json file with labels\n",
    "with open(work_dir + 'label_num_to_disease_map.json') as f:\n",
    "    real_labels = json.load(f)\n",
    "    real_labels = {int(k):v for k,v in real_labels.items()}\n",
    "    \n",
    "# Defining the working dataset\n",
    "data['class_name'] = data['label'].map(real_labels)\n",
    "\n",
    "real_labels"
   ]
  },
  {
   "cell_type": "code",
   "execution_count": null,
   "metadata": {
    "id": "RewU2PEkm0Ot"
   },
   "outputs": [],
   "source": [
    "train, test = train_test_split(data, test_size = 0.05, random_state = 42, stratify = data['class_name'])"
   ]
  },
  {
   "cell_type": "code",
   "execution_count": null,
   "metadata": {
    "id": "J5CJiVSTnLpB"
   },
   "outputs": [],
   "source": [
    "IMG_SIZE = 456\n",
    "size = (IMG_SIZE,IMG_SIZE)\n",
    "n_CLASS = 5\n",
    "BATCH_SIZE = 15"
   ]
  },
  {
   "cell_type": "code",
   "execution_count": null,
   "metadata": {
    "id": "wCfmNuvqoExY"
   },
   "outputs": [],
   "source": [
    "datagen_train = ImageDataGenerator(\n",
    "    preprocessing_function = tf.keras.applications.efficientnet.preprocess_input,\n",
    "    rotation_range = 40,\n",
    "    width_shift_range = 0.2,\n",
    "    height_shift_range = 0.2,\n",
    "    shear_range = 0.2,\n",
    "    zoom_range = 0.2,\n",
    "    horizontal_flip = True,\n",
    "    vertical_flip = True,\n",
    "    fill_mode = 'nearest',\n",
    ")\n",
    "\n",
    "datagen_val = ImageDataGenerator(\n",
    "    preprocessing_function = tf.keras.applications.efficientnet.preprocess_input,\n",
    ")"
   ]
  },
  {
   "cell_type": "code",
   "execution_count": null,
   "metadata": {
    "colab": {
     "base_uri": "https://localhost:8080/"
    },
    "id": "Ccv0kHADoHXM",
    "outputId": "5649188e-716d-4c62-8782-aa36b390a1d8"
   },
   "outputs": [
    {
     "name": "stdout",
     "output_type": "stream",
     "text": [
      "Found 20327 validated image filenames belonging to 5 classes.\n",
      "Found 1070 validated image filenames belonging to 5 classes.\n"
     ]
    }
   ],
   "source": [
    "train_set = datagen_train.flow_from_dataframe(\n",
    "    train,\n",
    "    directory=train_path,\n",
    "    seed=42,\n",
    "    x_col='image_id',\n",
    "    y_col='class_name',\n",
    "    target_size = size,\n",
    "    class_mode='categorical',\n",
    "    interpolation='nearest',\n",
    "    shuffle = True,\n",
    "    batch_size = BATCH_SIZE,\n",
    ")\n",
    "\n",
    "test_set = datagen_val.flow_from_dataframe(\n",
    "    test,\n",
    "    directory=train_path,\n",
    "    seed=42,\n",
    "    x_col='image_id',\n",
    "    y_col='class_name',\n",
    "    target_size = size,\n",
    "    class_mode='categorical',\n",
    "    interpolation='nearest',\n",
    "    shuffle=True,\n",
    "    batch_size=BATCH_SIZE,    \n",
    ")"
   ]
  },
  {
   "cell_type": "code",
   "execution_count": null,
   "metadata": {
    "id": "LBSfv1qtoLf0"
   },
   "outputs": [],
   "source": [
    "from keras.models import Sequential\n",
    "from keras.layers import GlobalAveragePooling2D, Flatten, Dense, Dropout, BatchNormalization\n",
    "from keras.optimizers import RMSprop, Adam\n",
    "from keras.callbacks import EarlyStopping, ModelCheckpoint, ReduceLROnPlateau\n",
    "from tensorflow.keras.applications import EfficientNetB3"
   ]
  },
  {
   "cell_type": "code",
   "execution_count": null,
   "metadata": {
    "colab": {
     "base_uri": "https://localhost:8080/"
    },
    "id": "29zcneJvoQBL",
    "outputId": "3a620667-e78f-4ca1-e192-5f695927910d"
   },
   "outputs": [
    {
     "name": "stdout",
     "output_type": "stream",
     "text": [
      "Downloading data from https://storage.googleapis.com/keras-applications/efficientnetb3_notop.h5\n",
      "43941888/43941136 [==============================] - 1s 0us/step\n",
      "Model: \"sequential\"\n",
      "_________________________________________________________________\n",
      "Layer (type)                 Output Shape              Param #   \n",
      "=================================================================\n",
      "efficientnetb3 (Functional)  (None, 15, 15, 1536)      10783535  \n",
      "_________________________________________________________________\n",
      "global_average_pooling2d (Gl (None, 1536)              0         \n",
      "_________________________________________________________________\n",
      "flatten (Flatten)            (None, 1536)              0         \n",
      "_________________________________________________________________\n",
      "dense (Dense)                (None, 128)               196736    \n",
      "_________________________________________________________________\n",
      "dense_1 (Dense)              (None, 256)               33024     \n",
      "_________________________________________________________________\n",
      "dropout (Dropout)            (None, 256)               0         \n",
      "_________________________________________________________________\n",
      "dense_2 (Dense)              (None, 5)                 1285      \n",
      "=================================================================\n",
      "Total params: 11,014,580\n",
      "Trainable params: 10,927,277\n",
      "Non-trainable params: 87,303\n",
      "_________________________________________________________________\n"
     ]
    }
   ],
   "source": [
    "def create_model():\n",
    "    \n",
    "    model = Sequential()\n",
    "    # initialize the model with input shape\n",
    "    model.add(\n",
    "        EfficientNetB3(\n",
    "            input_shape = (IMG_SIZE, IMG_SIZE, 3), \n",
    "            include_top = False,\n",
    "            weights='imagenet',\n",
    "            drop_connect_rate=0.65,\n",
    "        )\n",
    "    )\n",
    "    model.add(GlobalAveragePooling2D())\n",
    "    model.add(Flatten())\n",
    "    model.add(Dense(\n",
    "        128, \n",
    "        activation='relu', \n",
    "    ))\n",
    "    model.add(Dense(\n",
    "        256, \n",
    "        activation='relu', \n",
    "        bias_regularizer=tf.keras.regularizers.L1L2(l1=0.01, l2=0.001)\n",
    "    ))\n",
    "    model.add(Dropout(0.5))\n",
    "    model.add(Dense(n_CLASS, activation = 'softmax'))\n",
    "    \n",
    "    return model\n",
    "\n",
    "leaf_model = create_model()\n",
    "leaf_model.summary()"
   ]
  },
  {
   "cell_type": "code",
   "execution_count": null,
   "metadata": {
    "colab": {
     "base_uri": "https://localhost:8080/",
     "height": 758
    },
    "id": "C5M4K1CJoYwA",
    "outputId": "5897d9c7-e09e-4c8b-caed-7b454a2b9ad5"
   },
   "outputs": [
    {
     "data": {
      "image/png": "[encoded data removed]",
      "text/plain": [
       "<IPython.core.display.Image object>"
      ]
     },
     "execution_count": 13,
     "metadata": {
      "tags": []
     },
     "output_type": "execute_result"
    }
   ],
   "source": [
    "keras.utils.plot_model(leaf_model)"
   ]
  },
  {
   "cell_type": "code",
   "execution_count": null,
   "metadata": {
    "id": "WGuhtJcGocIx"
   },
   "outputs": [],
   "source": [
    "EPOCHS = 15\n",
    "STEP_SIZE_TRAIN = train_set.n // train_set.batch_size\n",
    "STEP_SIZE_TEST = test_set.n // test_set.batch_size"
   ]
  },
  {
   "cell_type": "code",
   "execution_count": null,
   "metadata": {
    "id": "NsWAPqZhogN6"
   },
   "outputs": [],
   "source": [
    "def model_fit():\n",
    "    leaf_model = create_model()\n",
    "    \n",
    "    # Loss function \n",
    "    # https://www.tensorflow.org/api_docs/python/tf/keras/losses/CategoricalCrossentropy\n",
    "    loss = tf.keras.losses.CategoricalCrossentropy(\n",
    "        from_logits = False,\n",
    "        label_smoothing=0.0001,\n",
    "        name='categorical_crossentropy'\n",
    "    )\n",
    "    \n",
    "    # Compile the model\n",
    "    leaf_model.compile(\n",
    "        optimizer = Adam(learning_rate = 1e-3),\n",
    "        loss = loss, #'categorical_crossentropy'\n",
    "        metrics = ['categorical_accuracy']\n",
    "    )\n",
    "    \n",
    "    # Stop training when the val_loss has stopped decreasing for 3 epochs.\n",
    "    # https://www.tensorflow.org/api_docs/python/tf/keras/callbacks/EarlyStopping\n",
    "    es = EarlyStopping(\n",
    "        monitor='val_loss', \n",
    "        mode='min', \n",
    "        patience=3,\n",
    "        restore_best_weights=True, \n",
    "        verbose=1,\n",
    "    )\n",
    "    \n",
    "    # Save the model with the minimum validation loss\n",
    "    # https://www.tensorflow.org/api_docs/python/tf/keras/callbacks/ModelCheckpoint\n",
    "    checkpoint_cb = ModelCheckpoint(\n",
    "        \"Cassava_best_model.h5\",\n",
    "        save_best_only=True,\n",
    "        monitor='val_loss',\n",
    "        mode='min',\n",
    "    )\n",
    "    \n",
    "    # Reduce learning rate once learning stagnates\n",
    "    # https://www.tensorflow.org/api_docs/python/tf/keras/callbacks/ReduceLROnPlateau\n",
    "    reduce_lr = ReduceLROnPlateau(\n",
    "        monitor='val_loss',\n",
    "        factor=0.2,\n",
    "        patience=2,\n",
    "        min_lr=1e-6,\n",
    "        mode='min',\n",
    "        verbose=1,\n",
    "    )\n",
    "    \n",
    "    # Fit the model\n",
    "    history = leaf_model.fit(\n",
    "        train_set,\n",
    "        validation_data=test_set,\n",
    "        epochs=EPOCHS,\n",
    "        batch_size=BATCH_SIZE,\n",
    "        steps_per_epoch=STEP_SIZE_TRAIN,\n",
    "        validation_steps=STEP_SIZE_TEST,\n",
    "        callbacks=[es, checkpoint_cb, reduce_lr],\n",
    "    )\n",
    "    \n",
    "    # Save the model\n",
    "    leaf_model.save('Cassava_model'+'.h5')  \n",
    "    \n",
    "    return history\n",
    "\n",
    "\n"
   ]
  },
  {
   "cell_type": "code",
   "execution_count": null,
   "metadata": {
    "colab": {
     "base_uri": "https://localhost:8080/"
    },
    "id": "twm7FBNIoodp",
    "outputId": "52293292-59e9-4da3-9c26-d48091db9bd1"
   },
   "outputs": [
    {
     "name": "stdout",
     "output_type": "stream",
     "text": [
      "Device mapping:\n",
      "/job:localhost/replica:0/task:0/device:GPU:0 -> device: 0, name: Tesla T4, pci bus id: 0000:00:04.0, compute capability: 7.5\n",
      "\n"
     ]
    }
   ],
   "source": [
    "sess = tf.compat.v1.Session(config=tf.compat.v1.ConfigProto(log_device_placement=True))\n",
    "\n",
    "from tensorflow.compat.v1.keras import backend as K\n",
    "K.set_session(sess)"
   ]
  },
  {
   "cell_type": "code",
   "execution_count": null,
   "metadata": {
    "colab": {
     "base_uri": "https://localhost:8080/"
    },
    "id": "34DdB9HVouUE",
    "outputId": "c49e2af7-692b-4a68-c481-a87bc93371ff"
   },
   "outputs": [
    {
     "name": "stdout",
     "output_type": "stream",
     "text": [
      "Epoch 1/15\n",
      "1355/1355 [==============================] - 9363s 7s/step - loss: 0.8768 - categorical_accuracy: 0.6940 - val_loss: 0.5077 - val_categorical_accuracy: 0.8404\n",
      "Epoch 2/15\n",
      "1355/1355 [==============================] - 1669s 1s/step - loss: 0.5550 - categorical_accuracy: 0.8100 - val_loss: 0.4902 - val_categorical_accuracy: 0.8413\n",
      "Epoch 3/15\n",
      "1355/1355 [==============================] - 1670s 1s/step - loss: 0.5089 - categorical_accuracy: 0.8306 - val_loss: 0.5365 - val_categorical_accuracy: 0.8254\n",
      "Epoch 4/15\n",
      "1355/1355 [==============================] - 1670s 1s/step - loss: 0.4941 - categorical_accuracy: 0.8360 - val_loss: 0.4834 - val_categorical_accuracy: 0.8376\n",
      "Epoch 5/15\n",
      "1355/1355 [==============================] - 1672s 1s/step - loss: 0.4599 - categorical_accuracy: 0.8436 - val_loss: 0.8216 - val_categorical_accuracy: 0.7014\n",
      "Epoch 6/15\n",
      "1355/1355 [==============================] - 1671s 1s/step - loss: 0.4747 - categorical_accuracy: 0.8425 - val_loss: 0.4277 - val_categorical_accuracy: 0.8582\n",
      "Epoch 7/15\n",
      "1355/1355 [==============================] - 1671s 1s/step - loss: 0.4424 - categorical_accuracy: 0.8531 - val_loss: 0.4491 - val_categorical_accuracy: 0.8394\n",
      "Epoch 8/15\n",
      "1355/1355 [==============================] - 1672s 1s/step - loss: 0.4304 - categorical_accuracy: 0.8581 - val_loss: 0.4646 - val_categorical_accuracy: 0.8451\n",
      "\n",
      "Epoch 00008: ReduceLROnPlateau reducing learning rate to 0.00020000000949949026.\n",
      "Epoch 9/15\n",
      "1355/1355 [==============================] - 1672s 1s/step - loss: 0.3902 - categorical_accuracy: 0.8670 - val_loss: 0.3417 - val_categorical_accuracy: 0.8892\n",
      "Epoch 10/15\n",
      "1355/1355 [==============================] - 1671s 1s/step - loss: 0.3424 - categorical_accuracy: 0.8851 - val_loss: 0.3356 - val_categorical_accuracy: 0.8911\n",
      "Epoch 11/15\n",
      "1355/1355 [==============================] - 1673s 1s/step - loss: 0.3378 - categorical_accuracy: 0.8877 - val_loss: 0.3604 - val_categorical_accuracy: 0.8826\n",
      "Epoch 12/15\n",
      "1355/1355 [==============================] - 1671s 1s/step - loss: 0.3386 - categorical_accuracy: 0.8873 - val_loss: 0.3462 - val_categorical_accuracy: 0.8789\n",
      "\n",
      "Epoch 00012: ReduceLROnPlateau reducing learning rate to 4.0000001899898055e-05.\n",
      "Epoch 13/15\n",
      "1355/1355 [==============================] - 1670s 1s/step - loss: 0.3199 - categorical_accuracy: 0.8903 - val_loss: 0.3444 - val_categorical_accuracy: 0.8836\n",
      "Restoring model weights from the end of the best epoch.\n",
      "Epoch 00013: early stopping\n",
      "Train Categorical Accuracy:  0.892181932926178\n",
      "Test Categorical Accuracy:  0.8910797834396362\n"
     ]
    }
   ],
   "source": [
    "try:\n",
    "    final_model = keras.models.load_model('Cassava_model.h5')\n",
    "except Exception as e:\n",
    "    with tf.device('/GPU:0'):\n",
    "        results = model_fit()\n",
    "    print('Train Categorical Accuracy: ', max(results.history['categorical_accuracy']))\n",
    "    print('Test Categorical Accuracy: ', max(results.history['val_categorical_accuracy']))"
   ]
  },
  {
   "cell_type": "code",
   "execution_count": null,
   "metadata": {
    "colab": {
     "base_uri": "https://localhost:8080/",
     "height": 682
    },
    "id": "rkTWXP47oxpP",
    "outputId": "a727eaaa-389d-4b5c-bf2a-b3057a75d11d"
   },
   "outputs": [
    {
     "data": {
      "image/png": "[encoded data removed]",
      "text/plain": [
       "<Figure size 1080x720 with 2 Axes>"
      ]
     },
     "metadata": {
      "needs_background": "light",
      "tags": []
     },
     "output_type": "display_data"
    }
   ],
   "source": [
    "#@title\n",
    "def trai_test_plot(acc, test_acc, loss, test_loss):\n",
    "    \n",
    "    fig, (ax1, ax2) = plt.subplots(1,2, figsize= (15,10))\n",
    "    fig.suptitle(\"Model's metrics comparisson\", fontsize=20)\n",
    "\n",
    "    ax1.plot(range(1, len(acc) + 1), acc)\n",
    "    ax1.plot(range(1, len(test_acc) + 1), test_acc)\n",
    "    ax1.set_title('History of Accuracy', fontsize=15)\n",
    "    ax1.set_xlabel('Epochs', fontsize=15)\n",
    "    ax1.set_ylabel('Accuracy', fontsize=15)\n",
    "    ax1.legend(['training', 'validation'])\n",
    "\n",
    "\n",
    "    ax2.plot(range(1, len(loss) + 1), loss)\n",
    "    ax2.plot(range(1, len(test_loss) + 1), test_loss)\n",
    "    ax2.set_title('History of Loss', fontsize=15)\n",
    "    ax2.set_xlabel('Epochs', fontsize=15)\n",
    "    ax2.set_ylabel('Loss', fontsize=15)\n",
    "    ax2.legend(['training', 'validation'])\n",
    "    plt.show()\n",
    "    \n",
    "trai_test_plot(\n",
    "    results.history['categorical_accuracy'],\n",
    "    results.history['val_categorical_accuracy'],\n",
    "    results.history['loss'],\n",
    "    results.history['val_loss']\n",
    ")"
   ]
  },
  {
   "cell_type": "code",
   "execution_count": null,
   "metadata": {
    "id": "_Qp5_L0Z5l4Y"
   },
   "outputs": [],
   "source": []
  }
 ],
 "metadata": {
  "accelerator": "GPU",
  "colab": {
   "collapsed_sections": [],
   "name": "leaf_efficient_net.ipynb",
   "provenance": []
  },
  "kernelspec": {
   "display_name": "Python 3",
   "language": "python",
   "name": "python3"
  },
  "language_info": {
   "codemirror_mode": {
    "name": "ipython",
    "version": 3
   },
   "file_extension": ".py",
   "mimetype": "text/x-python",
   "name": "python",
   "nbconvert_exporter": "python",
   "pygments_lexer": "ipython3",
   "version": "3.8.5"
  }
 },
 "nbformat": 4,
 "nbformat_minor": 1
}
